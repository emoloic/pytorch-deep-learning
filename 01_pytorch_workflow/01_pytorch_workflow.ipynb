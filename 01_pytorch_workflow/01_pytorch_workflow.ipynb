{
  "nbformat": 4,
  "nbformat_minor": 0,
  "metadata": {
    "colab": {
      "provenance": [],
      "collapsed_sections": [
        "af-mNCDBQLN8",
        "nHDZGRACc9Q_",
        "WqFNAmECc9Xn",
        "NaV9G2SqkQKP",
        "t3tjRY7DE5Hm",
        "ADCxb8YALvsM",
        "UChaeCf3Tq3t",
        "XdmlkTrMVwx8",
        "E0s5M_r6HsX6",
        "zRtJo6RBHsm1",
        "K3qprT8sVw-k"
      ]
    },
    "kernelspec": {
      "name": "python3",
      "display_name": "Python 3"
    },
    "language_info": {
      "name": "python"
    },
    "accelerator": "GPU",
    "gpuClass": "standard"
  },
  "cells": [
    {
      "cell_type": "markdown",
      "source": [
        "# PyTorch Workflow\n",
        "\n",
        "Let's explore an example PyTorch of end-to-end workflow\n",
        "- Data (prepare and load)\n",
        "- Build model\n",
        "- Fitting the model to data (training)\n",
        "- Making predictions and evaluating a model (inference)\n",
        "- Saving and loading model\n",
        "- Putting it all together"
      ],
      "metadata": {
        "id": "nN0HabT1OL7v"
      }
    },
    {
      "cell_type": "code",
      "source": [
        "import torch\n",
        "from torch import nn # nn contains all of PyTorch's building blocks for neural network\n",
        "import matplotlib.pyplot as plt\n",
        "\n",
        "# Check pytorch version\n",
        "torch.__version__"
      ],
      "metadata": {
        "colab": {
          "base_uri": "https://localhost:8080/",
          "height": 36
        },
        "id": "XPIhmVY8PoaO",
        "outputId": "0f1150d4-abfe-4733-b3a4-d16d9ae9ed6f"
      },
      "execution_count": null,
      "outputs": [
        {
          "output_type": "execute_result",
          "data": {
            "text/plain": [
              "'1.12.1+cu113'"
            ],
            "application/vnd.google.colaboratory.intrinsic+json": {
              "type": "string"
            }
          },
          "metadata": {},
          "execution_count": 1
        }
      ]
    },
    {
      "cell_type": "markdown",
      "source": [
        "## 1. Data (preparing and loading)\n",
        "\n",
        "Data can be almost everything... in machine learning.\n",
        "\n",
        "- Excel spreadsheet\n",
        "- Images\n",
        "- Videos\n",
        "- Audio\n",
        "- Text etc...\n",
        "\n",
        "Machine learning is a game of two parts:\n",
        "1. Get data into numerical representation\n",
        "2. Build a model to learn pattern in that numerical representation.\n",
        "\n",
        "Let's create some *known* data using the linear regression formula.\n",
        "\n",
        "We'll use a [linear regression](https://en.wikipedia.org/wiki/Linear_regression) formular to make a straight line with known parameters."
      ],
      "metadata": {
        "id": "nW-0F7QQQK38"
      }
    },
    {
      "cell_type": "code",
      "source": [
        "# Create a *known* parameters\n",
        "\n",
        "weight = 0.7\n",
        "bias = 0.3\n",
        "\n",
        "# Create data\n",
        "start = 0\n",
        "end = 1\n",
        "step = 0.02\n",
        "X = torch.arange(start, end, step).unsqueeze(dim=1)\n",
        "y = weight * X + bias\n",
        "\n",
        "X[:10], y[:10]"
      ],
      "metadata": {
        "colab": {
          "base_uri": "https://localhost:8080/"
        },
        "id": "96qam_uIRpt8",
        "outputId": "011dd2c0-3a7b-4633-bc05-0760789c9204"
      },
      "execution_count": null,
      "outputs": [
        {
          "output_type": "execute_result",
          "data": {
            "text/plain": [
              "(tensor([[0.0000],\n",
              "         [0.0200],\n",
              "         [0.0400],\n",
              "         [0.0600],\n",
              "         [0.0800],\n",
              "         [0.1000],\n",
              "         [0.1200],\n",
              "         [0.1400],\n",
              "         [0.1600],\n",
              "         [0.1800]]), tensor([[0.3000],\n",
              "         [0.3140],\n",
              "         [0.3280],\n",
              "         [0.3420],\n",
              "         [0.3560],\n",
              "         [0.3700],\n",
              "         [0.3840],\n",
              "         [0.3980],\n",
              "         [0.4120],\n",
              "         [0.4260]]))"
            ]
          },
          "metadata": {},
          "execution_count": 2
        }
      ]
    },
    {
      "cell_type": "code",
      "source": [
        "len(X), len(y)"
      ],
      "metadata": {
        "colab": {
          "base_uri": "https://localhost:8080/"
        },
        "id": "uy8GXRxjTLVY",
        "outputId": "18abd0f6-9aec-4092-bfcb-c5c684b04c8a"
      },
      "execution_count": null,
      "outputs": [
        {
          "output_type": "execute_result",
          "data": {
            "text/plain": [
              "(50, 50)"
            ]
          },
          "metadata": {},
          "execution_count": 23
        }
      ]
    },
    {
      "cell_type": "markdown",
      "source": [
        "Beautiful! Now we're going to move towards building a model that can learn the relationship between `X` (**features**) and `y` (**labels**)."
      ],
      "metadata": {
        "id": "d1hcGHvzmSum"
      }
    },
    {
      "cell_type": "markdown",
      "source": [
        "### Splitting data into training and test sets (one of the most concept in mahine learning)\n",
        "\n",
        "This step is typically done right at the start of a project (the test set should always be kept separate from all other data). We want our model to learn on training data and then evaluate it on test data to get an indication of how well it **generalizes** to unseen examples."
      ],
      "metadata": {
        "id": "2IgE40VcRpve"
      }
    },
    {
      "cell_type": "code",
      "source": [
        "# Create a train/test split\n",
        "train_split = int(0.8 * len(X))\n",
        "X_train, y_train = X[:train_split], y[:train_split]\n",
        "X_test, y_test = X[train_split:], y[train_split:]\n",
        "\n",
        "len(X_train), len(X_test), len(y_train), len(y_test)"
      ],
      "metadata": {
        "colab": {
          "base_uri": "https://localhost:8080/"
        },
        "id": "8SMxivFZRpzP",
        "outputId": "aef30924-2256-475d-c1f0-84c5ded1e4c5"
      },
      "execution_count": null,
      "outputs": [
        {
          "output_type": "execute_result",
          "data": {
            "text/plain": [
              "(40, 10, 40, 10)"
            ]
          },
          "metadata": {},
          "execution_count": 4
        }
      ]
    },
    {
      "cell_type": "markdown",
      "source": [
        "The model we create is going to try and learn the relationship between `X_train` & `y_train` and then we will evaluate what it learns on `X_test` and `y_test`."
      ],
      "metadata": {
        "id": "h2fFBQlTnYRw"
      }
    },
    {
      "cell_type": "markdown",
      "source": [
        "### How might we better visualize our data ? -> Data Visualization"
      ],
      "metadata": {
        "id": "fL9pykhlQK5k"
      }
    },
    {
      "cell_type": "code",
      "source": [
        "def plot_predictions(train_data=X_train,\n",
        "                     train_labels=y_train,\n",
        "                     test_data=X_test,\n",
        "                     test_labels=y_test,\n",
        "                     predictions=None):\n",
        "  \"\"\"\n",
        "  Plots training data, test data a,d compares predicitons.\n",
        "  \"\"\"\n",
        "  plt.figure(figsize=(10, 7))\n",
        "\n",
        "  # Plot training data in blue\n",
        "  plt.scatter(train_data, train_labels, c=\"b\", s=4, label=\"Training data\")\n",
        "\n",
        "  #Plot test data in blue\n",
        "  plt.scatter(test_data, test_labels, c=\"g\", s=4, label=\"Testing data\")\n",
        "\n",
        "  # Are there prediciton?\n",
        "  if predictions is not None:\n",
        "    # Plot the predicitons if they exist\n",
        "    plt.scatter(test_data, predictions, c=\"r\", s=4, label=\"Predictions\")\n",
        "\n",
        "  # Show the legend\n",
        "  plt.legend(prop={\"size\": 14})"
      ],
      "metadata": {
        "id": "c_-CWXCYQK9o"
      },
      "execution_count": null,
      "outputs": []
    },
    {
      "cell_type": "code",
      "source": [
        "plot_predictions()"
      ],
      "metadata": {
        "colab": {
          "base_uri": "https://localhost:8080/",
          "height": 428
        },
        "id": "bEfVvOubQLAc",
        "outputId": "f4afceba-b668-47ba-a68f-5166600cc68b"
      },
      "execution_count": null,
      "outputs": [
        {
          "output_type": "display_data",
          "data": {
            "text/plain": [
              "<Figure size 720x504 with 1 Axes>"
            ],
            "image/png": "[encoded data removed]"
          },
          "metadata": {
            "needs_background": "light"
          }
        }
      ]
    },
    {
      "cell_type": "markdown",
      "source": [
        "## 2. Build model\n",
        "\n",
        "Our first Pytorch model!\n",
        "\n",
        "What our model will do:\n",
        "- Start with random  values (weight and bias)\n",
        "- Look at training data and adjust the random values to better represent (or get closer to) the ideal values (the weight & bias values we used to create the data).\n",
        "\n",
        "How does it do so ?\n",
        "- Gradient Descent\n",
        "- Backpropagation"
      ],
      "metadata": {
        "id": "eMHeymJ9QLFQ"
      }
    },
    {
      "cell_type": "code",
      "source": [
        "# Create linear regression model class\n",
        "class LinearRegressionModel(nn.Module): # -> almost evrything in PyTorch inherits from nn.Module\n",
        "  def __init__(self):\n",
        "    super().__init__()\n",
        "    # Create two parameters and instantiate them as random values.\n",
        "    self.weights = nn.Parameter(torch.randn(1, # start with a random weight and try to adjust it to the ideal weight\n",
        "                                            requires_grad=True, # keep track of the gradient of our parameter and update them with Gradient Descent algorithm and backpropagation.\n",
        "                                            dtype=torch.float32)) # pytorch loves the datatype torch.float32\n",
        "    self.bias = nn.Parameter(torch.randn(1, # start with a random bias and try to adjust it to the ideal weight\n",
        "                                        requires_grad=True, # keep track of the gradient of our parameter and update them with Gradient Descent algorithm and backpropagation.\n",
        "                                        dtype=torch.float32)) # pytorch loves the datatype torch.float32\n",
        "    \n",
        "    # Forward method to define the computation in the model\n",
        "  def forward(self, x: torch.Tensor) -> torch.Tensor: # <- \"x\" is the input data\n",
        "    return self.weights * x + self.bias # this is the linear regression formula\n"
      ],
      "metadata": {
        "id": "3NWeUrRdQLIT"
      },
      "execution_count": null,
      "outputs": []
    },
    {
      "cell_type": "markdown",
      "source": [
        "Almost every model in pytorch inherits from `nn.Module`, and we you are not going to inherit from nn.Module, we should  overrite the forward() method to define what computation is happening in the model."
      ],
      "metadata": {
        "id": "Al9VvhLBQLLa"
      }
    },
    {
      "cell_type": "markdown",
      "source": [
        "### PyTorch model building essentials\n",
        "\n",
        "PyTorch has four (give or take) essential modules you can use to create almost any kind of neural network you can imagine.\n",
        "\n",
        "They are [torch.nn](https://pytorch.org/docs/stable/nn.html), [torch.optim](https://pytorch.org/docs/stable/optim.html), [torch.utils.data.Dataset](https://pytorch.org/docs/stable/optim.html) and [torch.utils.data.DataLoader](https://pytorch.org/docs/stable/data.html). For now, we'll focus on the first two and get to the other two later (though you may be able to guess what they do).\n",
        "\n",
        "- `torch.nn` -> contains all of the buildings for computational graphs (neural networks)\n",
        "- `torch.nn.Parameter` -> which parameters should our model try and learn, often A Pytorch layer from torch.nn will set these for us\n",
        "- `torch.nn.Module` -> the base class for all neural network modules, if you subclass it, you should overwrite `forward()`\n",
        "- `torch.optim` -> this is where optimizers in PyTorch live, they will help with gradient Descent\n",
        "- `def forward()` -> All nn.Module subclasses require you to overwrite forward(), this method defines what happen in the forward computation"
      ],
      "metadata": {
        "id": "af-mNCDBQLN8"
      }
    },
    {
      "cell_type": "markdown",
      "source": [
        "### Checking the contents of our PyTorch model\n",
        "\n",
        "Now that we've created our model, let's see what inside.\n",
        "\n",
        "So we can check our model parameters or what's inside our model using '.paremeters()'."
      ],
      "metadata": {
        "id": "nHDZGRACc9Q_"
      }
    },
    {
      "cell_type": "code",
      "source": [
        "# Create a random seed\n",
        "torch.manual_seed(42)\n",
        "\n",
        "# Create an instance of the model (This is a subclass of nn.Module)\n",
        "model_0 = LinearRegressionModel()\n",
        "\n",
        "# Check out the parameters\n",
        "list(model_0.parameters())"
      ],
      "metadata": {
        "colab": {
          "base_uri": "https://localhost:8080/"
        },
        "id": "G999ixDPc9SI",
        "outputId": "c987d298-cd79-44aa-fc87-4db698cea849"
      },
      "execution_count": null,
      "outputs": [
        {
          "output_type": "execute_result",
          "data": {
            "text/plain": [
              "[Parameter containing:\n",
              " tensor([0.3367], requires_grad=True), Parameter containing:\n",
              " tensor([0.1288], requires_grad=True)]"
            ]
          },
          "metadata": {},
          "execution_count": 8
        }
      ]
    },
    {
      "cell_type": "code",
      "source": [
        "# List named parameters\n",
        "model_0.state_dict()"
      ],
      "metadata": {
        "colab": {
          "base_uri": "https://localhost:8080/"
        },
        "id": "Zp7EluRwc9Wk",
        "outputId": "1e5e96ef-e038-4387-be74-abc9b721238b"
      },
      "execution_count": null,
      "outputs": [
        {
          "output_type": "execute_result",
          "data": {
            "text/plain": [
              "OrderedDict([('weights', tensor([0.3367])), ('bias', tensor([0.1288]))])"
            ]
          },
          "metadata": {},
          "execution_count": 9
        }
      ]
    },
    {
      "cell_type": "markdown",
      "source": [
        "### Making prediction using `torch.inference_mode()`\n",
        "\n",
        "Let's see how well it predicts `y_test` based on `X_test`.\n",
        "It's going to run it though `forward()` method."
      ],
      "metadata": {
        "id": "WqFNAmECc9Xn"
      }
    },
    {
      "cell_type": "code",
      "source": [
        "y_preds = model_0(X_test)\n",
        "y_preds"
      ],
      "metadata": {
        "colab": {
          "base_uri": "https://localhost:8080/"
        },
        "id": "MpLr6rctlX14",
        "outputId": "15085000-3a05-4de7-b265-990511551b98"
      },
      "execution_count": null,
      "outputs": [
        {
          "output_type": "execute_result",
          "data": {
            "text/plain": [
              "tensor([[0.3982],\n",
              "        [0.4049],\n",
              "        [0.4116],\n",
              "        [0.4184],\n",
              "        [0.4251],\n",
              "        [0.4318],\n",
              "        [0.4386],\n",
              "        [0.4453],\n",
              "        [0.4520],\n",
              "        [0.4588]], grad_fn=<AddBackward0>)"
            ]
          },
          "metadata": {},
          "execution_count": 10
        }
      ]
    },
    {
      "cell_type": "code",
      "source": [
        "# Make predictions with model\n",
        "# inference_mode() turns off gradient tracking. Pytorch will keep track of less data, so your prediction will be faster.\n",
        "with torch.inference_mode():\n",
        "  y_preds = model_0(X_test)\n",
        "\n",
        "# it will do the same thing but inference_mode has more options.\n",
        "# with torch.no_grad():\n",
        "#  y_preds = model_0(X_test)\n",
        "\n",
        "y_preds"
      ],
      "metadata": {
        "colab": {
          "base_uri": "https://localhost:8080/"
        },
        "id": "5hnnnaMWc9dB",
        "outputId": "771ec0d1-f843-4b29-926e-125099372e7b"
      },
      "execution_count": null,
      "outputs": [
        {
          "output_type": "execute_result",
          "data": {
            "text/plain": [
              "tensor([[0.3982],\n",
              "        [0.4049],\n",
              "        [0.4116],\n",
              "        [0.4184],\n",
              "        [0.4251],\n",
              "        [0.4318],\n",
              "        [0.4386],\n",
              "        [0.4453],\n",
              "        [0.4520],\n",
              "        [0.4588]])"
            ]
          },
          "metadata": {},
          "execution_count": 11
        }
      ]
    },
    {
      "cell_type": "code",
      "source": [
        "# Let's visualize\n",
        "plot_predictions(predictions=y_preds)"
      ],
      "metadata": {
        "colab": {
          "base_uri": "https://localhost:8080/",
          "height": 428
        },
        "id": "F3krl_LRkQC1",
        "outputId": "03989b1a-f0b2-4bcd-ce31-684dc8bfb77c"
      },
      "execution_count": null,
      "outputs": [
        {
          "output_type": "display_data",
          "data": {
            "text/plain": [
              "<Figure size 720x504 with 1 Axes>"
            ],
            "image/png": "[encoded data removed]"
          },
          "metadata": {
            "needs_background": "light"
          }
        }
      ]
    },
    {
      "cell_type": "code",
      "source": [
        "y_test - y_preds"
      ],
      "metadata": {
        "colab": {
          "base_uri": "https://localhost:8080/"
        },
        "id": "ve5s8AaftcX1",
        "outputId": "86bd8aec-eab4-43c8-d035-901d1cd834bf"
      },
      "execution_count": null,
      "outputs": [
        {
          "output_type": "execute_result",
          "data": {
            "text/plain": [
              "tensor([[0.4618],\n",
              "        [0.4691],\n",
              "        [0.4764],\n",
              "        [0.4836],\n",
              "        [0.4909],\n",
              "        [0.4982],\n",
              "        [0.5054],\n",
              "        [0.5127],\n",
              "        [0.5200],\n",
              "        [0.5272]])"
            ]
          },
          "metadata": {},
          "execution_count": 13
        }
      ]
    },
    {
      "cell_type": "markdown",
      "source": [
        "Those predictions look pretty bad...\n",
        "\n",
        "This make sense though when you remember our model is just using random parameter values to make predictions.\n",
        "\n",
        "It hasn't even looked at the blue dots to try to predict the green dots.\n",
        "\n",
        "Time to change that."
      ],
      "metadata": {
        "id": "pSCMgamdtcZC"
      }
    },
    {
      "cell_type": "markdown",
      "source": [
        "## 3. Train Model\n",
        "\n",
        "The whole idea of training is for a model to move from some *unknown* parameters (these may be random) to some *known* parameters.\n",
        "In other words from a poor representation of the data to a better representation of the data.\n",
        "\n",
        "One way to measure how poor or how wrong our model predictions are is to use a **loss function** (can also be called **cost function** or **criterion** in different areas).\n",
        "\n",
        "Things we need to train:\n",
        "- **Loss function:** A function to measure how wrong our model's predictions are to the ideal outputs, lower is better. PyTorch has plenty of built-in loss functions in [torch.nn](https://pytorch.org/docs/stable/nn.html#loss-functions)\n",
        "- **Optimizer:** Takes into account the loss of a model and adjusts the model's parameters (weight and bias). You can use various optimization function implementations in [torch.optim](https://pytorch.org/docs/stable/optim.html)\n",
        "\n",
        "And especially for PyTorch, we need:\n",
        "- **A training loop**\n",
        "- **A testing loop**"
      ],
      "metadata": {
        "id": "U4hnZuoskQEz"
      }
    },
    {
      "cell_type": "code",
      "source": [
        "# Setup a loss function\n",
        "loss_fn = nn.L1Loss() # Mean Absolute Error (MAE) for regression problems\n",
        "\n",
        "# Setup an optimizer (Stochastic Gradient Descent)\n",
        "optimizer = torch.optim.SGD(params=model_0.parameters(), # we want to optimize the parameters present in our model\n",
        "                            lr=0.01) # lr (learning rate): possibly the most important hyperparameter."
      ],
      "metadata": {
        "id": "Hs1WzfQpkQIp"
      },
      "execution_count": null,
      "outputs": []
    },
    {
      "cell_type": "markdown",
      "source": [
        "### Building a training loop (and testing loop) in PyTorch\n",
        "\n",
        "A couple of things we need in a training loop:\n",
        "0. Loop through the data\n",
        "1. Forward pass (this involves data moving through our model's 'forward()' to make predictions on data - also called forward propagation\n",
        "2. Calculate the loss (compare forward pass prediction to ground truth labels)\n",
        "3. Optimizer zero grad. (they accumulate every epoch, zero them to start fresh each forward pass)\n",
        "4. Loss Backward - move backwards through the network to calculate he gradients of each of the parameters of our model with respect to the loss. (**backward propagation**)\n",
        "5. Optimizer step - use the optimizer to adjust our model's parameters to try and improve the loss function (**gradient descent**)\n"
      ],
      "metadata": {
        "id": "NaV9G2SqkQKP"
      }
    },
    {
      "cell_type": "code",
      "source": [
        "torch.manual_seed(42)\n",
        "\n",
        "# An epoch is one loop through the data ...\n",
        "epochs = 200\n",
        "\n",
        "# Create empty loss lists to track different values\n",
        "epoch_count = []\n",
        "train_loss_values = []\n",
        "test_loss_values = []\n",
        "\n",
        "# 0. Loop through the data\n",
        "for epoch in range(epochs):\n",
        "  ### Training\n",
        "\n",
        "  # Set the model to training mode\n",
        "  model_0.train() # train mode in PyTorch set all parameters that requires gradients to require gradients.\n",
        "\n",
        "  # 1. Forward pass on train data using the forward() method inside\n",
        "  y_pred = model_0(X_train)\n",
        "\n",
        "  # 2. Calculate the loss (how different are our model's prediction to the ground truth)\n",
        "  loss = loss_fn(y_pred, y_train)\n",
        "\n",
        "  # 3. Optimizer zero grad\n",
        "  optimizer.zero_grad()\n",
        "\n",
        "  # 4. Perform backpropagation on the loss with respect to the parameters of the model\n",
        "  loss.backward()\n",
        "\n",
        "  # 5. Step the optimizer (perform gradient descent)\n",
        "  optimizer.step() # By default how the gradient changes will accumulate through the loop so..., we have to zero them above in step 3 (updagte model's parameters)\n",
        "  \n",
        "  ### Testing\n",
        "\n",
        "  # Set the model to evaluation mode\n",
        "  model_0.eval() # turns off (gradient tracking) different settings in the model not needed for evaluation/testing (dropout).\n",
        "  \n",
        "  with torch.inference_mode(): # During evaluation, we turn off the things we don't need.\n",
        "    # 1. Do the forward pass on test data\n",
        "    test_pred = model_0(X_test)\n",
        "\n",
        "    # 2. Calculate the loss on test data\n",
        "    test_loss = loss_fn(test_pred, y_test)\n",
        "\n",
        "  # Print out what's happenin\n",
        "  if epoch % 10 == 0:\n",
        "    epoch_count.append(epoch)\n",
        "    train_loss_values.append(loss)\n",
        "    test_loss_values.append(test_loss)\n",
        "    print(f\"Epoch: {epoch} | MAE Train Loss: {loss} | MAE Test loss: {test_loss}\")\n",
        "    # Print out model state_dict\n",
        "    print(model_0.state_dict())"
      ],
      "metadata": {
        "colab": {
          "base_uri": "https://localhost:8080/"
        },
        "id": "iTEDATaVkQOG",
        "outputId": "40256d93-7822-464a-d6b1-8914488c876f"
      },
      "execution_count": null,
      "outputs": [
        {
          "output_type": "stream",
          "name": "stdout",
          "text": [
            "Epoch: 0 | MAE Train Loss: 0.31288138031959534 | MAE Test loss: 0.48106518387794495\n",
            "OrderedDict([('weights', tensor([0.3406])), ('bias', tensor([0.1388]))])\n",
            "Epoch: 10 | MAE Train Loss: 0.1976713240146637 | MAE Test loss: 0.3463551998138428\n",
            "OrderedDict([('weights', tensor([0.3796])), ('bias', tensor([0.2388]))])\n",
            "Epoch: 20 | MAE Train Loss: 0.08908725529909134 | MAE Test loss: 0.21729660034179688\n",
            "OrderedDict([('weights', tensor([0.4184])), ('bias', tensor([0.3333]))])\n",
            "Epoch: 30 | MAE Train Loss: 0.053148526698350906 | MAE Test loss: 0.14464017748832703\n",
            "OrderedDict([('weights', tensor([0.4512])), ('bias', tensor([0.3768]))])\n",
            "Epoch: 40 | MAE Train Loss: 0.04543796554207802 | MAE Test loss: 0.11360953003168106\n",
            "OrderedDict([('weights', tensor([0.4748])), ('bias', tensor([0.3868]))])\n",
            "Epoch: 50 | MAE Train Loss: 0.04167863354086876 | MAE Test loss: 0.09919948130846024\n",
            "OrderedDict([('weights', tensor([0.4938])), ('bias', tensor([0.3843]))])\n",
            "Epoch: 60 | MAE Train Loss: 0.03818932920694351 | MAE Test loss: 0.08886633068323135\n",
            "OrderedDict([('weights', tensor([0.5116])), ('bias', tensor([0.3788]))])\n",
            "Epoch: 70 | MAE Train Loss: 0.03476089984178543 | MAE Test loss: 0.0805937647819519\n",
            "OrderedDict([('weights', tensor([0.5288])), ('bias', tensor([0.3718]))])\n",
            "Epoch: 80 | MAE Train Loss: 0.03132382780313492 | MAE Test loss: 0.07232122868299484\n",
            "OrderedDict([('weights', tensor([0.5459])), ('bias', tensor([0.3648]))])\n",
            "Epoch: 90 | MAE Train Loss: 0.02788739837706089 | MAE Test loss: 0.06473556160926819\n",
            "OrderedDict([('weights', tensor([0.5629])), ('bias', tensor([0.3573]))])\n",
            "Epoch: 100 | MAE Train Loss: 0.024458957836031914 | MAE Test loss: 0.05646304413676262\n",
            "OrderedDict([('weights', tensor([0.5800])), ('bias', tensor([0.3503]))])\n",
            "Epoch: 110 | MAE Train Loss: 0.021020207554101944 | MAE Test loss: 0.04819049686193466\n",
            "OrderedDict([('weights', tensor([0.5972])), ('bias', tensor([0.3433]))])\n",
            "Epoch: 120 | MAE Train Loss: 0.01758546568453312 | MAE Test loss: 0.04060482233762741\n",
            "OrderedDict([('weights', tensor([0.6141])), ('bias', tensor([0.3358]))])\n",
            "Epoch: 130 | MAE Train Loss: 0.014155393466353416 | MAE Test loss: 0.03233227878808975\n",
            "OrderedDict([('weights', tensor([0.6313])), ('bias', tensor([0.3288]))])\n",
            "Epoch: 140 | MAE Train Loss: 0.010716589167714119 | MAE Test loss: 0.024059748277068138\n",
            "OrderedDict([('weights', tensor([0.6485])), ('bias', tensor([0.3218]))])\n",
            "Epoch: 150 | MAE Train Loss: 0.0072835334576666355 | MAE Test loss: 0.016474086791276932\n",
            "OrderedDict([('weights', tensor([0.6654])), ('bias', tensor([0.3143]))])\n",
            "Epoch: 160 | MAE Train Loss: 0.0038517764769494534 | MAE Test loss: 0.008201557211577892\n",
            "OrderedDict([('weights', tensor([0.6826])), ('bias', tensor([0.3073]))])\n",
            "Epoch: 170 | MAE Train Loss: 0.008932482451200485 | MAE Test loss: 0.005023092031478882\n",
            "OrderedDict([('weights', tensor([0.6951])), ('bias', tensor([0.2993]))])\n",
            "Epoch: 180 | MAE Train Loss: 0.008932482451200485 | MAE Test loss: 0.005023092031478882\n",
            "OrderedDict([('weights', tensor([0.6951])), ('bias', tensor([0.2993]))])\n",
            "Epoch: 190 | MAE Train Loss: 0.008932482451200485 | MAE Test loss: 0.005023092031478882\n",
            "OrderedDict([('weights', tensor([0.6951])), ('bias', tensor([0.2993]))])\n"
          ]
        }
      ]
    },
    {
      "cell_type": "markdown",
      "source": [
        "Looks like our loss is going down with every epoch, let's plot it to find out."
      ],
      "metadata": {
        "id": "3v8IS_fU1vi2"
      }
    },
    {
      "cell_type": "code",
      "source": [
        "import numpy as np\n",
        "# Plot the loss curves\n",
        "plt.plot(epoch_count, np.array(torch.tensor(train_loss_values).cpu().numpy()), label=\"Train loss\")\n",
        "plt.plot(epoch_count, np.array(torch.tensor(test_loss_values).cpu().numpy()), label=\"Test loss\")\n",
        "plt.title(\"Training and test loss curves\")\n",
        "plt.ylabel(\"Loss\")\n",
        "plt.xlabel(\"Epochs\")\n",
        "plt.legend()"
      ],
      "metadata": {
        "colab": {
          "base_uri": "https://localhost:8080/",
          "height": 312
        },
        "id": "YbKTCntPJrk7",
        "outputId": "85caf2ca-da9d-437b-dc14-bfd4f8b4053c"
      },
      "execution_count": null,
      "outputs": [
        {
          "output_type": "execute_result",
          "data": {
            "text/plain": [
              "<matplotlib.legend.Legend at 0x7f43accd3a10>"
            ]
          },
          "metadata": {},
          "execution_count": 17
        },
        {
          "output_type": "display_data",
          "data": {
            "text/plain": [
              "<Figure size 432x288 with 1 Axes>"
            ],
            "image/png": "[encoded data removed]"
          },
          "metadata": {
            "needs_background": "light"
          }
        }
      ]
    },
    {
      "cell_type": "markdown",
      "source": [
        "The **loss curves** show the loss going down over time. Remember, loss is the measure of how wrong your model is, so the lower the better.\n",
        "\n",
        "Let's inspect our model's [.state_dict()](https://pytorch.org/tutorials/recipes/recipes/what_is_state_dict.html) to see see how close our model gets to the original values we set for weights and bias."
      ],
      "metadata": {
        "id": "N6iClphr2ORq"
      }
    },
    {
      "cell_type": "code",
      "source": [
        "# Find our model's learned parameters\n",
        "print(\"The model learned the following values for weights and bias:\")\n",
        "print(model_0.state_dict())\n",
        "print(\"\\nAnd the original values for weights and bias are:\")\n",
        "print(f\"weights: {weight}, bias: {bias}\")"
      ],
      "metadata": {
        "colab": {
          "base_uri": "https://localhost:8080/"
        },
        "id": "iP3hYxpZ20dR",
        "outputId": "d6ef5543-e8ab-43ab-8c9d-67dda957c9e3"
      },
      "execution_count": null,
      "outputs": [
        {
          "output_type": "stream",
          "name": "stdout",
          "text": [
            "The model learned the following values for weights and bias:\n",
            "OrderedDict([('weights', tensor([0.6990])), ('bias', tensor([0.3093]))])\n",
            "\n",
            "And the original values for weights and bias are:\n",
            "weights: 0.7, bias: 0.3\n"
          ]
        }
      ]
    },
    {
      "cell_type": "markdown",
      "source": [
        "Our model got very close to calculate the exact original values for `weight` and `bias` (and it would probably get even closer if we trained it for longer)."
      ],
      "metadata": {
        "id": "45WcmrWw2_lt"
      }
    },
    {
      "cell_type": "markdown",
      "source": [
        "## 4. Making predictions with a trained PyTorch model (inference)\n",
        "\n",
        "There are three things to remember when making predictions (also called performing inference) with a PyTorch model:\n",
        "\n",
        "1. Set the model in evaluation mode (`model.eval()`).\n",
        "\n",
        "2. Make the predictions using the inference mode context manager (`with torch.inference_mode(): ...`).\n",
        "\n",
        "3. All predictions should be made with objects on the same device (e.g. data and model on GPU only or data and model on CPU only)."
      ],
      "metadata": {
        "id": "NVrJDuTB3mDy"
      }
    },
    {
      "cell_type": "code",
      "source": [
        "# 1. Set the model in evaluation mode\n",
        "model_0.eval()\n",
        "\n",
        "# 2. Setup the inference mode context manager\n",
        "with torch.inference_mode():\n",
        "  # 3. Make sure the calculations are done with the model and data on the same device\n",
        "  # in our case, we haven't setup device-agnostic code yet so our data and model are\n",
        "  # on the CPU by default.\n",
        "  # model_0.to(device)\n",
        "  # X_test = X_test.to(device)\n",
        "  y_pred_new = model_0(X_test)"
      ],
      "metadata": {
        "id": "HbhOwtdOkQPJ"
      },
      "execution_count": null,
      "outputs": []
    },
    {
      "cell_type": "code",
      "source": [
        "print(y_pred_new)"
      ],
      "metadata": {
        "colab": {
          "base_uri": "https://localhost:8080/"
        },
        "id": "7cko2K13kQT0",
        "outputId": "d7342103-257a-48e9-8cf8-6512588d0604"
      },
      "execution_count": null,
      "outputs": [
        {
          "output_type": "stream",
          "name": "stdout",
          "text": [
            "tensor([[0.8685],\n",
            "        [0.8825],\n",
            "        [0.8965],\n",
            "        [0.9105],\n",
            "        [0.9245],\n",
            "        [0.9384],\n",
            "        [0.9524],\n",
            "        [0.9664],\n",
            "        [0.9804],\n",
            "        [0.9944]])\n"
          ]
        }
      ]
    },
    {
      "cell_type": "code",
      "source": [
        "# We've made some predictions with our trained model, now how do they look before training our model?\n",
        "plot_predictions(predictions=y_preds)"
      ],
      "metadata": {
        "colab": {
          "base_uri": "https://localhost:8080/",
          "height": 428
        },
        "id": "XA6czBN8HvX0",
        "outputId": "dbe9082c-f983-4758-abd5-25c46d8fd0fc"
      },
      "execution_count": null,
      "outputs": [
        {
          "output_type": "display_data",
          "data": {
            "text/plain": [
              "<Figure size 720x504 with 1 Axes>"
            ],
            "image/png": "[encoded data removed]"
          },
          "metadata": {
            "needs_background": "light"
          }
        }
      ]
    },
    {
      "cell_type": "code",
      "source": [
        "# Now how do they look after training our model?\n",
        "plot_predictions(predictions=y_pred_new)"
      ],
      "metadata": {
        "colab": {
          "base_uri": "https://localhost:8080/",
          "height": 428
        },
        "id": "W8SJ2CBhkQVI",
        "outputId": "ea7b6751-197e-418a-f519-9b105aab84b3"
      },
      "execution_count": null,
      "outputs": [
        {
          "output_type": "display_data",
          "data": {
            "text/plain": [
              "<Figure size 720x504 with 1 Axes>"
            ],
            "image/png": "[encoded data removed]"
          },
          "metadata": {
            "needs_background": "light"
          }
        }
      ]
    },
    {
      "cell_type": "markdown",
      "source": [
        "Those red dots are looking far closer than they were before!"
      ],
      "metadata": {
        "id": "z6eeJ61X5kw8"
      }
    },
    {
      "cell_type": "markdown",
      "source": [
        "## 5. Saving and loading a Pytorch model"
      ],
      "metadata": {
        "id": "cYmvQ6gH6MjT"
      }
    },
    {
      "cell_type": "markdown",
      "source": [
        "### Saving a Pytorch model\n",
        "\n",
        "There are three main methods you should know about saving models in PyTorch. [link](https://pytorch.org/tutorials/beginner/saving_loading_models.html#saving-loading-model-for-inference)\n",
        "\n",
        "\n",
        "1. `torch.save()` - allows you save a PyTorch object in Python's pickle format. **(save the entire model)**\n",
        "2. `torch.load()` - allows you to load a saved PyTorch object\n",
        "3. `torch.nn.Module.load_state_dict()` - this allows to load a model's saved state dictionary **(recommended way)**"
      ],
      "metadata": {
        "id": "t3tjRY7DE5Hm"
      }
    },
    {
      "cell_type": "code",
      "source": [
        "model_0.state_dict()"
      ],
      "metadata": {
        "colab": {
          "base_uri": "https://localhost:8080/"
        },
        "id": "h3_rxzs3Lvew",
        "outputId": "7218bdad-4357-4b6e-ee5d-858822d41c7f"
      },
      "execution_count": null,
      "outputs": [
        {
          "output_type": "execute_result",
          "data": {
            "text/plain": [
              "OrderedDict([('weights', tensor([0.6990])), ('bias', tensor([0.3093]))])"
            ]
          },
          "metadata": {},
          "execution_count": 40
        }
      ]
    },
    {
      "cell_type": "markdown",
      "source": [
        " A **state_dict** is a python dictionary object that maps each layer to its parameter tensor."
      ],
      "metadata": {
        "id": "WOt_seDFLvgA"
      }
    },
    {
      "cell_type": "code",
      "source": [
        "# Saving our PyTorch model\n",
        "from pathlib import Path\n",
        "\n",
        "# 1. Create a model directory\n",
        "MODEL_PATH = Path(\"models\")\n",
        "MODEL_PATH.mkdir(parents=True, exist_ok=True)\n",
        "\n",
        "# 2. Create model save path\n",
        "MODEL_NAME = \"01_pytorch_workflow_model_0.pth\"\n",
        "MODEL_SAVE_PATH = MODEL_PATH / MODEL_NAME\n",
        "\n",
        "# 3. Saving the model state dict\n",
        "print(f\"Saving model to: {MODEL_SAVE_PATH}\")\n",
        "torch.save(obj=model_0.state_dict(),\n",
        "           f=MODEL_SAVE_PATH)"
      ],
      "metadata": {
        "colab": {
          "base_uri": "https://localhost:8080/"
        },
        "id": "iy3anrGrLvlH",
        "outputId": "4e7f4624-d9f7-4731-cbbc-d1b6dd065566"
      },
      "execution_count": null,
      "outputs": [
        {
          "output_type": "stream",
          "name": "stdout",
          "text": [
            "Saving model to: models/01_pytorch_workflow_model_0.pth\n"
          ]
        }
      ]
    },
    {
      "cell_type": "code",
      "source": [
        "# Check the saved file path\n",
        "!ls -l models"
      ],
      "metadata": {
        "colab": {
          "base_uri": "https://localhost:8080/"
        },
        "id": "1EEQRx7oLvoW",
        "outputId": "9a9e2651-d123-43c9-9aff-9566652bef18"
      },
      "execution_count": null,
      "outputs": [
        {
          "output_type": "stream",
          "name": "stdout",
          "text": [
            "total 4\n",
            "-rw-r--r-- 1 root root 1063 Nov 25 08:35 01_pytorch_workflow_model_0.pth\n"
          ]
        }
      ]
    },
    {
      "cell_type": "markdown",
      "source": [
        "### Loading a saved PyTorch model's `state_dict()`\n",
        "\n",
        "Since we saved our model's `state_dict()` rather than the entire model, we'll create a new instance of our model class and load the saved `state_dict()` into that."
      ],
      "metadata": {
        "id": "ADCxb8YALvsM"
      }
    },
    {
      "cell_type": "code",
      "source": [
        "# To load in a saved state_dict, we have to instantiate a new instance of our model class\n",
        "loaded_model_0 = LinearRegressionModel()\n",
        "\n",
        "# Load the saved state_dict of model_0 (this will update the new instance with updated parameters)\n",
        "loaded_model_0.state_dict() # It's initialize with random parameters"
      ],
      "metadata": {
        "colab": {
          "base_uri": "https://localhost:8080/"
        },
        "id": "GiV-USoBLvu9",
        "outputId": "4dcd10b8-ab9d-4f8f-97a8-d961f109668c"
      },
      "execution_count": null,
      "outputs": [
        {
          "output_type": "execute_result",
          "data": {
            "text/plain": [
              "OrderedDict([('weights', tensor([0.3367])), ('bias', tensor([0.1288]))])"
            ]
          },
          "metadata": {},
          "execution_count": 27
        }
      ]
    },
    {
      "cell_type": "code",
      "source": [
        "# Let's load !!!\n",
        "loaded_model_0.load_state_dict(torch.load(f=MODEL_SAVE_PATH))"
      ],
      "metadata": {
        "colab": {
          "base_uri": "https://localhost:8080/"
        },
        "id": "Dd3T0Ly5Lvx7",
        "outputId": "5fcbd369-e038-49c4-803b-44047ecd9b5c"
      },
      "execution_count": null,
      "outputs": [
        {
          "output_type": "execute_result",
          "data": {
            "text/plain": [
              "<All keys matched successfully>"
            ]
          },
          "metadata": {},
          "execution_count": 28
        }
      ]
    },
    {
      "cell_type": "code",
      "source": [
        "loaded_model_0.state_dict()"
      ],
      "metadata": {
        "colab": {
          "base_uri": "https://localhost:8080/"
        },
        "id": "VxUI2wZoLv0H",
        "outputId": "3b1893dc-4eef-4c9f-fedc-8b281eb738ca"
      },
      "execution_count": null,
      "outputs": [
        {
          "output_type": "execute_result",
          "data": {
            "text/plain": [
              "OrderedDict([('weights', tensor([0.6990])), ('bias', tensor([0.3093]))])"
            ]
          },
          "metadata": {},
          "execution_count": 29
        }
      ]
    },
    {
      "cell_type": "code",
      "source": [
        "## Make some predictions with our loaded model\n",
        "# 1. Put the loaded model into evaluation mode\n",
        "loaded_model_0.eval()\n",
        "\n",
        "# 2. Use the inference mode context manager to make predictions\n",
        "with torch.inference_mode():\n",
        "  loaded_model_preds = loaded_model_0(X_test)\n",
        "\n",
        "loaded_model_preds"
      ],
      "metadata": {
        "colab": {
          "base_uri": "https://localhost:8080/"
        },
        "id": "XTFlP01jE5J5",
        "outputId": "7e609c4c-7096-43f7-9dbf-a1d103c6b37c"
      },
      "execution_count": null,
      "outputs": [
        {
          "output_type": "execute_result",
          "data": {
            "text/plain": [
              "tensor([[0.8685],\n",
              "        [0.8825],\n",
              "        [0.8965],\n",
              "        [0.9105],\n",
              "        [0.9245],\n",
              "        [0.9384],\n",
              "        [0.9524],\n",
              "        [0.9664],\n",
              "        [0.9804],\n",
              "        [0.9944]])"
            ]
          },
          "metadata": {},
          "execution_count": 30
        }
      ]
    },
    {
      "cell_type": "code",
      "source": [
        "# Compare loaded model preds with original model preds\n",
        "y_pred_new == loaded_model_preds"
      ],
      "metadata": {
        "colab": {
          "base_uri": "https://localhost:8080/"
        },
        "id": "PRFRGF3uE5Ns",
        "outputId": "de231800-2ffb-4e14-a46a-a4b282f63843"
      },
      "execution_count": null,
      "outputs": [
        {
          "output_type": "execute_result",
          "data": {
            "text/plain": [
              "tensor([[True],\n",
              "        [True],\n",
              "        [True],\n",
              "        [True],\n",
              "        [True],\n",
              "        [True],\n",
              "        [True],\n",
              "        [True],\n",
              "        [True],\n",
              "        [True]])"
            ]
          },
          "metadata": {},
          "execution_count": 31
        }
      ]
    },
    {
      "cell_type": "markdown",
      "source": [
        "It looks like the loaded model predictions are the same as the previous model predictions (predictions made prior to saving). This indiates our model is saving and loading as expected."
      ],
      "metadata": {
        "id": "ztdabB4s9lRH"
      }
    },
    {
      "cell_type": "markdown",
      "source": [
        "## 6. Putting it all together\n",
        "\n",
        "Let's go back through the steps above and see it all in one place."
      ],
      "metadata": {
        "id": "T52qRhFlE5fv"
      }
    },
    {
      "cell_type": "code",
      "source": [
        "# Import PyTorch and matplotlib\n",
        "import torch\n",
        "from torch import nn\n",
        "import matplotlib.pyplot as plt \n",
        "\n",
        "# Check ¨PyTorch version\n",
        "torch.__version__"
      ],
      "metadata": {
        "colab": {
          "base_uri": "https://localhost:8080/",
          "height": 36
        },
        "id": "HLrNQAAASup-",
        "outputId": "caf5ff5c-aeef-4212-e745-96753d794fec"
      },
      "execution_count": null,
      "outputs": [
        {
          "output_type": "execute_result",
          "data": {
            "text/plain": [
              "'1.12.1+cu113'"
            ],
            "application/vnd.google.colaboratory.intrinsic+json": {
              "type": "string"
            }
          },
          "metadata": {},
          "execution_count": 32
        }
      ]
    },
    {
      "cell_type": "markdown",
      "source": [
        "Create device-agnostic code.\n",
        "\n",
        "This means if we've got access to a GPU, our code will use it (for potentially faster computing).\n",
        "\n",
        "If no GPU is available, the code will default to using CPU."
      ],
      "metadata": {
        "id": "mggWwxJvSusW"
      }
    },
    {
      "cell_type": "code",
      "source": [
        "# Setup device agnostic code\n",
        "device = \"cuda\" if torch.cuda.is_available() else \"cpu\"\n",
        "print(f\"Using device: {device}\")"
      ],
      "metadata": {
        "colab": {
          "base_uri": "https://localhost:8080/"
        },
        "id": "q59hoSunSuvV",
        "outputId": "ccf3cdc9-8bb8-4084-ec18-9c93e62d7157"
      },
      "execution_count": null,
      "outputs": [
        {
          "output_type": "stream",
          "name": "stdout",
          "text": [
            "Using device: cuda\n"
          ]
        }
      ]
    },
    {
      "cell_type": "code",
      "source": [
        "!nvidia-smi"
      ],
      "metadata": {
        "colab": {
          "base_uri": "https://localhost:8080/"
        },
        "id": "CeVGCFi9Tq0d",
        "outputId": "dc6d82cf-c769-47c6-cc84-70d8a2b9fb36"
      },
      "execution_count": null,
      "outputs": [
        {
          "output_type": "stream",
          "name": "stdout",
          "text": [
            "Fri Nov 25 08:48:03 2022       \n",
            "+-----------------------------------------------------------------------------+\n",
            "| NVIDIA-SMI 460.32.03    Driver Version: 460.32.03    CUDA Version: 11.2     |\n",
            "|-------------------------------+----------------------+----------------------+\n",
            "| GPU  Name        Persistence-M| Bus-Id        Disp.A | Volatile Uncorr. ECC |\n",
            "| Fan  Temp  Perf  Pwr:Usage/Cap|         Memory-Usage | GPU-Util  Compute M. |\n",
            "|                               |                      |               MIG M. |\n",
            "|===============================+======================+======================|\n",
            "|   0  Tesla T4            Off  | 00000000:00:04.0 Off |                    0 |\n",
            "| N/A   36C    P8     9W /  70W |      3MiB / 15109MiB |      0%      Default |\n",
            "|                               |                      |                  N/A |\n",
            "+-------------------------------+----------------------+----------------------+\n",
            "                                                                               \n",
            "+-----------------------------------------------------------------------------+\n",
            "| Processes:                                                                  |\n",
            "|  GPU   GI   CI        PID   Type   Process name                  GPU Memory |\n",
            "|        ID   ID                                                   Usage      |\n",
            "|=============================================================================|\n",
            "|  No running processes found                                                 |\n",
            "+-----------------------------------------------------------------------------+\n"
          ]
        }
      ]
    },
    {
      "cell_type": "markdown",
      "source": [
        "### 6.1 Data\n",
        "\n",
        "Let's create some data just like before.\n",
        "\n",
        "First, we'll hard-code some `weight` and `bias` values.\n",
        "\n",
        "Then we'll make a range of numbers between 0 and 1, these will be our `X` values.\n",
        "\n",
        "Finally, we'll use the `X` values, as well as the `weight` and `bias` values to create `y` using the linear regression formula (`y = weight * X + bias`)."
      ],
      "metadata": {
        "id": "UChaeCf3Tq3t"
      }
    },
    {
      "cell_type": "code",
      "source": [
        "# Create some data using the linear regression formula using the formula of y = weight * X + b\n",
        "weight = 0.7\n",
        "bias = 0.3\n",
        "\n",
        "# Create range values\n",
        "start = 0\n",
        "end = 1\n",
        "step = 0.02\n",
        "\n",
        "# Create X and y (features ans labels)\n",
        "X = torch.arange(start, end, step).unsqueeze(dim=1) # without unsqueeze, errors will will happen later on (shapes within linear layers)\n",
        "y = weight * X + bias \n",
        "\n",
        "X[:10], y[:10]"
      ],
      "metadata": {
        "colab": {
          "base_uri": "https://localhost:8080/"
        },
        "id": "40UYrnC6Tq6e",
        "outputId": "17819cf9-22be-460a-ecf9-76800517b3af"
      },
      "execution_count": null,
      "outputs": [
        {
          "output_type": "execute_result",
          "data": {
            "text/plain": [
              "(tensor([[0.0000],\n",
              "         [0.0200],\n",
              "         [0.0400],\n",
              "         [0.0600],\n",
              "         [0.0800],\n",
              "         [0.1000],\n",
              "         [0.1200],\n",
              "         [0.1400],\n",
              "         [0.1600],\n",
              "         [0.1800]]), tensor([[0.3000],\n",
              "         [0.3140],\n",
              "         [0.3280],\n",
              "         [0.3420],\n",
              "         [0.3560],\n",
              "         [0.3700],\n",
              "         [0.3840],\n",
              "         [0.3980],\n",
              "         [0.4120],\n",
              "         [0.4260]]))"
            ]
          },
          "metadata": {},
          "execution_count": 36
        }
      ]
    },
    {
      "cell_type": "markdown",
      "source": [
        "We've got some data, let's split it into training and test sets.\n",
        "\n",
        "We'll use an 80/20 split with 80% training data and 20% testing data."
      ],
      "metadata": {
        "id": "y9gFozTx_NYw"
      }
    },
    {
      "cell_type": "code",
      "source": [
        "# Split the data\n",
        "train_split = int(0.8*len(X))\n",
        "X_train, y_train = X[:train_split], y[:train_split]\n",
        "X_test, y_test = X[train_split:], y[train_split:]\n",
        "len(X_train), len(y_train), len(X_test), len(y_test)"
      ],
      "metadata": {
        "colab": {
          "base_uri": "https://localhost:8080/"
        },
        "id": "ljkTo2JWSuxp",
        "outputId": "4d3bf691-bdae-42e9-caa7-9253c48410b7"
      },
      "execution_count": null,
      "outputs": [
        {
          "output_type": "execute_result",
          "data": {
            "text/plain": [
              "(40, 40, 10, 10)"
            ]
          },
          "metadata": {},
          "execution_count": 37
        }
      ]
    },
    {
      "cell_type": "code",
      "source": [
        "# Let's visualize them to make sure they look okay.\n",
        "# Note: if you don't have the plot_predictions() function loaded, this will error\n",
        "plot_predictions(X_train, y_train, X_test, y_test)"
      ],
      "metadata": {
        "colab": {
          "base_uri": "https://localhost:8080/",
          "height": 428
        },
        "id": "DPx91CCCSu1J",
        "outputId": "f8e25f02-7aac-4439-ef3d-2b3a2ca08d1d"
      },
      "execution_count": null,
      "outputs": [
        {
          "output_type": "display_data",
          "data": {
            "text/plain": [
              "<Figure size 720x504 with 1 Axes>"
            ],
            "image/png": "[encoded data removed]"
          },
          "metadata": {
            "needs_background": "light"
          }
        }
      ]
    },
    {
      "cell_type": "markdown",
      "source": [
        "### 6.2 Building a PyTorch Linear model\n",
        "\n",
        "We've got some data, now it's time to make a model.\n",
        "\n",
        "We'll create the same style of model as before except this time, instead of defining the weight and bias parameters of our model manually using `nn.Parameter()`, we'll use [nn.Linear(in_features, out_features)](https://pytorch.org/docs/stable/generated/torch.nn.Linear.html) to do it for us.\n",
        "\n",
        "Where `in_features` is the number of dimensions your input data has and `out_features` is the number of dimensions you'd like it to be output to.\n",
        "\n",
        "In our case, both of these are `1` since our data has `1` input feature (`X`) per label (`y`).\n",
        "\n"
      ],
      "metadata": {
        "id": "XdmlkTrMVwx8"
      }
    },
    {
      "cell_type": "code",
      "source": [
        "# Create a linear model by subclassing nn.Module\n",
        "# Instead of initialize each parameter as we did before, we will inistialize layers that have the parameter in those layers.\n",
        "class LinearRegressionModelV2(nn.Module):\n",
        "  def __init__(self):\n",
        "    super().__init__()\n",
        "    # Use nn.Linear() for creating the model parameters.\n",
        "    self.linear_layer = nn.Linear(in_features=1, # input of size 1 (one value of X)\n",
        "                                  out_features=1) # output of size 1 (one value of y)\n",
        "  def forward(self, x: torch.Tensor) -> torch.Tensor:\n",
        "    return self.linear_layer(x)\n",
        "\n",
        "# Set manual seed for reproducibility\n",
        "torch.manual_seed(42)\n",
        "model_1 = LinearRegressionModelV2()\n",
        "model_1, model_1.state_dict()"
      ],
      "metadata": {
        "id": "YvTABvrWVw0-",
        "colab": {
          "base_uri": "https://localhost:8080/"
        },
        "outputId": "518542e8-4c15-4483-eadf-09ca47917c8b"
      },
      "execution_count": null,
      "outputs": [
        {
          "output_type": "execute_result",
          "data": {
            "text/plain": [
              "(LinearRegressionModelV2(\n",
              "   (linear_layer): Linear(in_features=1, out_features=1, bias=True)\n",
              " ),\n",
              " OrderedDict([('linear_layer.weight', tensor([[0.7645]])),\n",
              "              ('linear_layer.bias', tensor([0.8300]))]))"
            ]
          },
          "metadata": {},
          "execution_count": 39
        }
      ]
    },
    {
      "cell_type": "code",
      "source": [
        "# Check the model current device\n",
        "next(model_1.parameters()).device"
      ],
      "metadata": {
        "colab": {
          "base_uri": "https://localhost:8080/"
        },
        "id": "SPnSLAVTKACJ",
        "outputId": "32f2e5d2-6898-4bc9-a55b-05c6d851a345"
      },
      "execution_count": null,
      "outputs": [
        {
          "output_type": "execute_result",
          "data": {
            "text/plain": [
              "device(type='cpu')"
            ]
          },
          "metadata": {},
          "execution_count": 66
        }
      ]
    },
    {
      "cell_type": "markdown",
      "source": [
        "It looks like the model is on the CPU by default.\n",
        "\n",
        "Let's change it to be on the GPU (if it's available)."
      ],
      "metadata": {
        "id": "qYK81P9FBOu7"
      }
    },
    {
      "cell_type": "code",
      "source": [
        "# Set the model to use the target device\n",
        "model_1.to(device)\n",
        "next(model_1.parameters()).device"
      ],
      "metadata": {
        "id": "D_kcNUW2Vw4H",
        "colab": {
          "base_uri": "https://localhost:8080/"
        },
        "outputId": "6a9b00d3-0b01-4d05-f5b0-8a849f8d4a7c"
      },
      "execution_count": null,
      "outputs": [
        {
          "output_type": "execute_result",
          "data": {
            "text/plain": [
              "device(type='cuda', index=0)"
            ]
          },
          "metadata": {},
          "execution_count": 40
        }
      ]
    },
    {
      "cell_type": "markdown",
      "source": [
        "Since we have access to the GPU, now our model is on the GPU."
      ],
      "metadata": {
        "id": "HoxM7bjVBkY8"
      }
    },
    {
      "cell_type": "markdown",
      "source": [
        "### 6.3 training\n",
        "\n",
        "For training we need:\n",
        "- Loss function\n",
        "- Optimiser\n",
        "- Training Loop\n",
        "- Testing loop"
      ],
      "metadata": {
        "id": "E0s5M_r6HsX6"
      }
    },
    {
      "cell_type": "code",
      "source": [
        "# Setup loss function\n",
        "loss_fn = nn.L1Loss() # same as MAE\n",
        "\n",
        "# Setup optmizer\n",
        "optimizer = torch.optim.SGD(params=model_1.parameters(),\n",
        "                                lr=0.01)"
      ],
      "metadata": {
        "id": "bc7qpLFlHsah"
      },
      "execution_count": null,
      "outputs": []
    },
    {
      "cell_type": "code",
      "source": [
        "# Let's write the training loop\n",
        "torch.manual_seed(42)\n",
        "\n",
        "epochs = 1000\n",
        "\n",
        "# Put data on the target device (device agnostic code for data)\n",
        "# All the data we compute must be on the same device\n",
        "X_train = X_train.to(device)\n",
        "y_train = y_train.to(device)\n",
        "X_test = X_test.to(device)\n",
        "y_test = y_test.to(device)\n",
        "\n",
        "for epoch in range(epochs):\n",
        "  ### Training\n",
        "  model_1.train() # train mode is on by default after construction\n",
        "\n",
        "  # 1. Forward pass\n",
        "  y_pred = model_1(X_train)\n",
        "\n",
        "  # 2. Calculate the loss\n",
        "  loss = loss_fn(y_pred, y_train)\n",
        "\n",
        "  # 3. Optimizer zero grad\n",
        "  optimizer.zero_grad()\n",
        "\n",
        "  # 4. Perform bakpropagation\n",
        "  loss.backward()\n",
        "  \n",
        "  # 5. Optimizer steps\n",
        "  optimizer.step()\n",
        "\n",
        "  ### Testing\n",
        "  model_1.eval() # put the model in evaluation mode for testing (inference)\n",
        "  with torch.inference_mode():\n",
        "    # 1. Forward pass\n",
        "    test_pred = model_1(X_test)\n",
        "    \n",
        "    # 2. Calculate the loss\n",
        "    test_loss = loss_fn(test_pred, y_test)\n",
        "\n",
        "  # Print out what's happening\n",
        "\n",
        "  if epoch % 10 == 0:\n",
        "    print(f\"Epoch: {epoch} | Train Loss: {loss} | Test loss: {test_loss}\")"
      ],
      "metadata": {
        "colab": {
          "base_uri": "https://localhost:8080/"
        },
        "id": "K3x4XYzqHsdR",
        "outputId": "2b672c56-fe90-4ca4-b6ab-85039f28400d"
      },
      "execution_count": null,
      "outputs": [
        {
          "output_type": "stream",
          "name": "stdout",
          "text": [
            "Epoch: 0 | Train Loss: 0.5551779866218567 | Test loss: 0.5874471664428711\n",
            "Epoch: 10 | Train Loss: 0.5551779866218567 | Test loss: 0.5874471664428711\n",
            "Epoch: 20 | Train Loss: 0.5551779866218567 | Test loss: 0.5874471664428711\n",
            "Epoch: 30 | Train Loss: 0.5551779866218567 | Test loss: 0.5874471664428711\n",
            "Epoch: 40 | Train Loss: 0.5551779866218567 | Test loss: 0.5874471664428711\n",
            "Epoch: 50 | Train Loss: 0.5551779866218567 | Test loss: 0.5874471664428711\n",
            "Epoch: 60 | Train Loss: 0.5551779866218567 | Test loss: 0.5874471664428711\n",
            "Epoch: 70 | Train Loss: 0.5551779866218567 | Test loss: 0.5874471664428711\n",
            "Epoch: 80 | Train Loss: 0.5551779866218567 | Test loss: 0.5874471664428711\n",
            "Epoch: 90 | Train Loss: 0.5551779866218567 | Test loss: 0.5874471664428711\n",
            "Epoch: 100 | Train Loss: 0.5551779866218567 | Test loss: 0.5874471664428711\n",
            "Epoch: 110 | Train Loss: 0.5551779866218567 | Test loss: 0.5874471664428711\n",
            "Epoch: 120 | Train Loss: 0.5551779866218567 | Test loss: 0.5874471664428711\n",
            "Epoch: 130 | Train Loss: 0.5551779866218567 | Test loss: 0.5874471664428711\n",
            "Epoch: 140 | Train Loss: 0.5551779866218567 | Test loss: 0.5874471664428711\n",
            "Epoch: 150 | Train Loss: 0.5551779866218567 | Test loss: 0.5874471664428711\n",
            "Epoch: 160 | Train Loss: 0.5551779866218567 | Test loss: 0.5874471664428711\n",
            "Epoch: 170 | Train Loss: 0.5551779866218567 | Test loss: 0.5874471664428711\n",
            "Epoch: 180 | Train Loss: 0.5551779866218567 | Test loss: 0.5874471664428711\n",
            "Epoch: 190 | Train Loss: 0.5551779866218567 | Test loss: 0.5874471664428711\n",
            "Epoch: 200 | Train Loss: 0.5551779866218567 | Test loss: 0.5874471664428711\n",
            "Epoch: 210 | Train Loss: 0.5551779866218567 | Test loss: 0.5874471664428711\n",
            "Epoch: 220 | Train Loss: 0.5551779866218567 | Test loss: 0.5874471664428711\n",
            "Epoch: 230 | Train Loss: 0.5551779866218567 | Test loss: 0.5874471664428711\n",
            "Epoch: 240 | Train Loss: 0.5551779866218567 | Test loss: 0.5874471664428711\n",
            "Epoch: 250 | Train Loss: 0.5551779866218567 | Test loss: 0.5874471664428711\n",
            "Epoch: 260 | Train Loss: 0.5551779866218567 | Test loss: 0.5874471664428711\n",
            "Epoch: 270 | Train Loss: 0.5551779866218567 | Test loss: 0.5874471664428711\n",
            "Epoch: 280 | Train Loss: 0.5551779866218567 | Test loss: 0.5874471664428711\n",
            "Epoch: 290 | Train Loss: 0.5551779866218567 | Test loss: 0.5874471664428711\n",
            "Epoch: 300 | Train Loss: 0.5551779866218567 | Test loss: 0.5874471664428711\n",
            "Epoch: 310 | Train Loss: 0.5551779866218567 | Test loss: 0.5874471664428711\n",
            "Epoch: 320 | Train Loss: 0.5551779866218567 | Test loss: 0.5874471664428711\n",
            "Epoch: 330 | Train Loss: 0.5551779866218567 | Test loss: 0.5874471664428711\n",
            "Epoch: 340 | Train Loss: 0.5551779866218567 | Test loss: 0.5874471664428711\n",
            "Epoch: 350 | Train Loss: 0.5551779866218567 | Test loss: 0.5874471664428711\n",
            "Epoch: 360 | Train Loss: 0.5551779866218567 | Test loss: 0.5874471664428711\n",
            "Epoch: 370 | Train Loss: 0.5551779866218567 | Test loss: 0.5874471664428711\n",
            "Epoch: 380 | Train Loss: 0.5551779866218567 | Test loss: 0.5874471664428711\n",
            "Epoch: 390 | Train Loss: 0.5551779866218567 | Test loss: 0.5874471664428711\n",
            "Epoch: 400 | Train Loss: 0.5551779866218567 | Test loss: 0.5874471664428711\n",
            "Epoch: 410 | Train Loss: 0.5551779866218567 | Test loss: 0.5874471664428711\n",
            "Epoch: 420 | Train Loss: 0.5551779866218567 | Test loss: 0.5874471664428711\n",
            "Epoch: 430 | Train Loss: 0.5551779866218567 | Test loss: 0.5874471664428711\n",
            "Epoch: 440 | Train Loss: 0.5551779866218567 | Test loss: 0.5874471664428711\n",
            "Epoch: 450 | Train Loss: 0.5551779866218567 | Test loss: 0.5874471664428711\n",
            "Epoch: 460 | Train Loss: 0.5551779866218567 | Test loss: 0.5874471664428711\n",
            "Epoch: 470 | Train Loss: 0.5551779866218567 | Test loss: 0.5874471664428711\n",
            "Epoch: 480 | Train Loss: 0.5551779866218567 | Test loss: 0.5874471664428711\n",
            "Epoch: 490 | Train Loss: 0.5551779866218567 | Test loss: 0.5874471664428711\n",
            "Epoch: 500 | Train Loss: 0.5551779866218567 | Test loss: 0.5874471664428711\n",
            "Epoch: 510 | Train Loss: 0.5551779866218567 | Test loss: 0.5874471664428711\n",
            "Epoch: 520 | Train Loss: 0.5551779866218567 | Test loss: 0.5874471664428711\n",
            "Epoch: 530 | Train Loss: 0.5551779866218567 | Test loss: 0.5874471664428711\n",
            "Epoch: 540 | Train Loss: 0.5551779866218567 | Test loss: 0.5874471664428711\n",
            "Epoch: 550 | Train Loss: 0.5551779866218567 | Test loss: 0.5874471664428711\n",
            "Epoch: 560 | Train Loss: 0.5551779866218567 | Test loss: 0.5874471664428711\n",
            "Epoch: 570 | Train Loss: 0.5551779866218567 | Test loss: 0.5874471664428711\n",
            "Epoch: 580 | Train Loss: 0.5551779866218567 | Test loss: 0.5874471664428711\n",
            "Epoch: 590 | Train Loss: 0.5551779866218567 | Test loss: 0.5874471664428711\n",
            "Epoch: 600 | Train Loss: 0.5551779866218567 | Test loss: 0.5874471664428711\n",
            "Epoch: 610 | Train Loss: 0.5551779866218567 | Test loss: 0.5874471664428711\n",
            "Epoch: 620 | Train Loss: 0.5551779866218567 | Test loss: 0.5874471664428711\n",
            "Epoch: 630 | Train Loss: 0.5551779866218567 | Test loss: 0.5874471664428711\n",
            "Epoch: 640 | Train Loss: 0.5551779866218567 | Test loss: 0.5874471664428711\n",
            "Epoch: 650 | Train Loss: 0.5551779866218567 | Test loss: 0.5874471664428711\n",
            "Epoch: 660 | Train Loss: 0.5551779866218567 | Test loss: 0.5874471664428711\n",
            "Epoch: 670 | Train Loss: 0.5551779866218567 | Test loss: 0.5874471664428711\n",
            "Epoch: 680 | Train Loss: 0.5551779866218567 | Test loss: 0.5874471664428711\n",
            "Epoch: 690 | Train Loss: 0.5551779866218567 | Test loss: 0.5874471664428711\n",
            "Epoch: 700 | Train Loss: 0.5551779866218567 | Test loss: 0.5874471664428711\n",
            "Epoch: 710 | Train Loss: 0.5551779866218567 | Test loss: 0.5874471664428711\n",
            "Epoch: 720 | Train Loss: 0.5551779866218567 | Test loss: 0.5874471664428711\n",
            "Epoch: 730 | Train Loss: 0.5551779866218567 | Test loss: 0.5874471664428711\n",
            "Epoch: 740 | Train Loss: 0.5551779866218567 | Test loss: 0.5874471664428711\n",
            "Epoch: 750 | Train Loss: 0.5551779866218567 | Test loss: 0.5874471664428711\n",
            "Epoch: 760 | Train Loss: 0.5551779866218567 | Test loss: 0.5874471664428711\n",
            "Epoch: 770 | Train Loss: 0.5551779866218567 | Test loss: 0.5874471664428711\n",
            "Epoch: 780 | Train Loss: 0.5551779866218567 | Test loss: 0.5874471664428711\n",
            "Epoch: 790 | Train Loss: 0.5551779866218567 | Test loss: 0.5874471664428711\n",
            "Epoch: 800 | Train Loss: 0.5551779866218567 | Test loss: 0.5874471664428711\n",
            "Epoch: 810 | Train Loss: 0.5551779866218567 | Test loss: 0.5874471664428711\n",
            "Epoch: 820 | Train Loss: 0.5551779866218567 | Test loss: 0.5874471664428711\n",
            "Epoch: 830 | Train Loss: 0.5551779866218567 | Test loss: 0.5874471664428711\n",
            "Epoch: 840 | Train Loss: 0.5551779866218567 | Test loss: 0.5874471664428711\n",
            "Epoch: 850 | Train Loss: 0.5551779866218567 | Test loss: 0.5874471664428711\n",
            "Epoch: 860 | Train Loss: 0.5551779866218567 | Test loss: 0.5874471664428711\n",
            "Epoch: 870 | Train Loss: 0.5551779866218567 | Test loss: 0.5874471664428711\n",
            "Epoch: 880 | Train Loss: 0.5551779866218567 | Test loss: 0.5874471664428711\n",
            "Epoch: 890 | Train Loss: 0.5551779866218567 | Test loss: 0.5874471664428711\n",
            "Epoch: 900 | Train Loss: 0.5551779866218567 | Test loss: 0.5874471664428711\n",
            "Epoch: 910 | Train Loss: 0.5551779866218567 | Test loss: 0.5874471664428711\n",
            "Epoch: 920 | Train Loss: 0.5551779866218567 | Test loss: 0.5874471664428711\n",
            "Epoch: 930 | Train Loss: 0.5551779866218567 | Test loss: 0.5874471664428711\n",
            "Epoch: 940 | Train Loss: 0.5551779866218567 | Test loss: 0.5874471664428711\n",
            "Epoch: 950 | Train Loss: 0.5551779866218567 | Test loss: 0.5874471664428711\n",
            "Epoch: 960 | Train Loss: 0.5551779866218567 | Test loss: 0.5874471664428711\n",
            "Epoch: 970 | Train Loss: 0.5551779866218567 | Test loss: 0.5874471664428711\n",
            "Epoch: 980 | Train Loss: 0.5551779866218567 | Test loss: 0.5874471664428711\n",
            "Epoch: 990 | Train Loss: 0.5551779866218567 | Test loss: 0.5874471664428711\n"
          ]
        }
      ]
    },
    {
      "cell_type": "code",
      "source": [
        "# Find our model's learned parameters\n",
        "from pprint import pprint\n",
        "print(\"The model learned the following values for weights and bias:\")\n",
        "pprint(model_1.state_dict())"
      ],
      "metadata": {
        "colab": {
          "base_uri": "https://localhost:8080/"
        },
        "id": "I1AphBaVHsex",
        "outputId": "66b239b8-2634-4c5a-dfaf-fc9b8a453472"
      },
      "execution_count": null,
      "outputs": [
        {
          "output_type": "stream",
          "name": "stdout",
          "text": [
            "The model learned the following values for weights and bias:\n",
            "OrderedDict([('linear_layer.weight', tensor([[0.7645]], device='cuda:0')),\n",
            "             ('linear_layer.bias', tensor([0.8300], device='cuda:0'))])\n"
          ]
        }
      ]
    },
    {
      "cell_type": "code",
      "source": [
        "print(\"\\nAnd the original values for weights and bias are:\")\n",
        "print(f\"weights: {weight}, bias: {bias}\")"
      ],
      "metadata": {
        "colab": {
          "base_uri": "https://localhost:8080/"
        },
        "id": "XMN7-Q2wHsk9",
        "outputId": "8de9a2f6-277c-4c67-c9f7-81b59dcfe778"
      },
      "execution_count": null,
      "outputs": [
        {
          "output_type": "stream",
          "name": "stdout",
          "text": [
            "\n",
            "And the original values for weights and bias are:\n",
            "weights: 0.7, bias: 0.3\n"
          ]
        }
      ]
    },
    {
      "cell_type": "markdown",
      "source": [
        "We need to make some improvements (maybe we need to train longer). Our model's parameters are from the original values. "
      ],
      "metadata": {
        "id": "u7G8sohJDu09"
      }
    },
    {
      "cell_type": "markdown",
      "source": [
        "### 6.4 Making and evaluating predictions\n",
        "\n",
        "Now we've got a trained model, let's turn on it's evaluation mode and make some predictions."
      ],
      "metadata": {
        "id": "zRtJo6RBHsm1"
      }
    },
    {
      "cell_type": "code",
      "source": [
        "# Turn our model into evaluation mode\n",
        "model_1.eval()\n",
        "\n",
        "# Make predictions on the test data\n",
        "with torch.inference_mode():\n",
        "  y_preds = model_1(X_test)\n",
        "y_preds"
      ],
      "metadata": {
        "colab": {
          "base_uri": "https://localhost:8080/"
        },
        "id": "k7v5d3K7Hsqv",
        "outputId": "b59f6c4a-2731-48f6-f228-4cf638e6dfcf"
      },
      "execution_count": null,
      "outputs": [
        {
          "output_type": "execute_result",
          "data": {
            "text/plain": [
              "tensor([[1.4416],\n",
              "        [1.4569],\n",
              "        [1.4722],\n",
              "        [1.4875],\n",
              "        [1.5028],\n",
              "        [1.5181],\n",
              "        [1.5334],\n",
              "        [1.5487],\n",
              "        [1.5640],\n",
              "        [1.5793]], device='cuda:0')"
            ]
          },
          "metadata": {},
          "execution_count": 45
        }
      ]
    },
    {
      "cell_type": "markdown",
      "source": [
        "If you're making predictions with data on the GPU, you might notice the output of the above has `device='cuda:0'` towards the end. That means the data is on CUDA device 0 (the first GPU your system has access to due to zero-indexing), if you end up using multiple GPUs in the future, this number may be higher."
      ],
      "metadata": {
        "id": "9tCP2Z2TEYHp"
      }
    },
    {
      "cell_type": "code",
      "source": [
        "# Check out our model model predictions visually\n",
        "import numpy as np\n",
        "plot_predictions(predictions=np.array(torch.Tensor(y_preds).cpu().numpy()))"
      ],
      "metadata": {
        "id": "I-nxmTQAVw7O",
        "colab": {
          "base_uri": "https://localhost:8080/",
          "height": 428
        },
        "outputId": "7a254a59-a6b9-4aac-a4cb-765f764b0b22"
      },
      "execution_count": null,
      "outputs": [
        {
          "output_type": "display_data",
          "data": {
            "text/plain": [
              "<Figure size 720x504 with 1 Axes>"
            ],
            "image/png": "[encoded data removed]"
          },
          "metadata": {
            "needs_background": "light"
          }
        }
      ]
    },
    {
      "cell_type": "markdown",
      "source": [
        "As we already discussed, our model doesn't perform well on the test data, the predicted values (red points) are far from the ground truth values (green points)."
      ],
      "metadata": {
        "id": "sOFb47tqEuHr"
      }
    },
    {
      "cell_type": "markdown",
      "source": [
        "### 6.5 Saving and loading our model\n",
        "\n",
        "For this demo, we won't try to improve our model's performance. We will save it to a file so it can be used later."
      ],
      "metadata": {
        "id": "K3qprT8sVw-k"
      }
    },
    {
      "cell_type": "code",
      "source": [
        "from pathlib import Path\n",
        "\n",
        "# 1. Create models directory\n",
        "MODEL_PATH = Path(\"models\")\n",
        "MODEL_PATH.mkdir(parents=True, exist_ok=True)\n",
        "\n",
        "# 2. Create model save path\n",
        "MODEL_NAME = \"01_pytorch_workflow_model_1.pth\"\n",
        "MODEL_SAVE_PATH = MODEL_PATH / MODEL_NAME\n",
        "\n",
        "# 3. Saving the model state dict\n",
        "print(f\"Saving model to: {MODEL_SAVE_PATH}\")\n",
        "torch.save(obj=model_1.state_dict(),\n",
        "           f=MODEL_SAVE_PATH)"
      ],
      "metadata": {
        "id": "imb8HMSvVxA9",
        "colab": {
          "base_uri": "https://localhost:8080/"
        },
        "outputId": "d9ce7e52-a9c4-4f0a-a6d1-05fcf36ee85e"
      },
      "execution_count": null,
      "outputs": [
        {
          "output_type": "stream",
          "name": "stdout",
          "text": [
            "Saving model to: models/01_pytorch_workflow_model_1.pth\n"
          ]
        }
      ]
    },
    {
      "cell_type": "code",
      "source": [
        "# Load a PyTorch model\n",
        "\n",
        "# Create a new instance of linear regression model v2\n",
        "loaded_model_1 = LinearRegressionModelV2()\n",
        "\n",
        "# Load the saved model_1 state_dict\n",
        "loaded_model_1.load_state_dict(torch.load(MODEL_SAVE_PATH))\n",
        "\n",
        "# Put the loaded model to device\n",
        "loaded_model_1.to(device)"
      ],
      "metadata": {
        "colab": {
          "base_uri": "https://localhost:8080/"
        },
        "id": "EA9eZ6P_PeSN",
        "outputId": "71959606-bb8f-469d-94a9-a6e0f429c59d"
      },
      "execution_count": null,
      "outputs": [
        {
          "output_type": "execute_result",
          "data": {
            "text/plain": [
              "LinearRegressionModelV2(\n",
              "  (linear_layer): Linear(in_features=1, out_features=1, bias=True)\n",
              ")"
            ]
          },
          "metadata": {},
          "execution_count": 48
        }
      ]
    },
    {
      "cell_type": "code",
      "source": [
        "next(loaded_model_1.parameters()).device"
      ],
      "metadata": {
        "colab": {
          "base_uri": "https://localhost:8080/"
        },
        "id": "tTKnZ_YfPeWw",
        "outputId": "e3010885-69c7-4b50-d1e0-4f3ff2c29ab4"
      },
      "execution_count": null,
      "outputs": [
        {
          "output_type": "execute_result",
          "data": {
            "text/plain": [
              "device(type='cuda', index=0)"
            ]
          },
          "metadata": {},
          "execution_count": 49
        }
      ]
    },
    {
      "cell_type": "code",
      "source": [
        "loaded_model_1.state_dict()"
      ],
      "metadata": {
        "colab": {
          "base_uri": "https://localhost:8080/"
        },
        "id": "Uf9bpqPzPehd",
        "outputId": "700e00cd-6bbc-4cf4-9bc7-ec676b4d78fc"
      },
      "execution_count": null,
      "outputs": [
        {
          "output_type": "execute_result",
          "data": {
            "text/plain": [
              "OrderedDict([('linear_layer.weight', tensor([[0.7645]], device='cuda:0')),\n",
              "             ('linear_layer.bias', tensor([0.8300], device='cuda:0'))])"
            ]
          },
          "metadata": {},
          "execution_count": 50
        }
      ]
    },
    {
      "cell_type": "code",
      "source": [
        "# Evaluate loaded model\n",
        "loaded_model_1.eval()\n",
        "with torch.inference_mode():\n",
        "  loaded_model_1_preds = loaded_model_1(X_test)\n",
        "y_preds == loaded_model_1_preds"
      ],
      "metadata": {
        "colab": {
          "base_uri": "https://localhost:8080/"
        },
        "id": "35vzC4LwPemZ",
        "outputId": "f4d58443-fcae-4f32-9a74-09ecf5ee099b"
      },
      "execution_count": null,
      "outputs": [
        {
          "output_type": "execute_result",
          "data": {
            "text/plain": [
              "tensor([[True],\n",
              "        [True],\n",
              "        [True],\n",
              "        [True],\n",
              "        [True],\n",
              "        [True],\n",
              "        [True],\n",
              "        [True],\n",
              "        [True],\n",
              "        [True]], device='cuda:0')"
            ]
          },
          "metadata": {},
          "execution_count": 51
        }
      ]
    }
  ]
}